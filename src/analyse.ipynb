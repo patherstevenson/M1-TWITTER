{
 "cells": [
  {
   "cell_type": "code",
   "execution_count": 1,
   "id": "28820438",
   "metadata": {},
   "outputs": [],
   "source": [
    "from auth import *\n",
    "from cross_validation import cross_val_score\n",
    "from BayesClassifier import *\n",
    "from KNN import *\n",
    "import pandas as pd"
   ]
  },
  {
   "cell_type": "code",
   "execution_count": 2,
   "id": "1514e525",
   "metadata": {},
   "outputs": [],
   "source": [
    "df = pd.read_csv(\"data/basis_learning/tweets_clean_annoted.csv\",index_col=0)"
   ]
  },
  {
   "cell_type": "code",
   "execution_count": 3,
   "id": "62296be1",
   "metadata": {},
   "outputs": [],
   "source": [
    "X, y = df['tweet'].values, df['polarity'].values"
   ]
  },
  {
   "cell_type": "code",
   "execution_count": 35,
   "id": "7d6794c6",
   "metadata": {},
   "outputs": [],
   "source": [
    "labels = ['Présence, uni-gramme', 'Présence, bi-gramme',\n",
    "         'Présence, uni-gramme + bi-gramme',\n",
    "         'Fréquence, uni-gramme','Fréquence, bi-gramme',\n",
    "         'Fréquence, uni-gramme + bi-gramme']"
   ]
  },
  {
   "cell_type": "code",
   "execution_count": 28,
   "id": "08e3e0ae",
   "metadata": {},
   "outputs": [],
   "source": [
    "models = [BayesClassifier(freq=False,n_gram=1), \n",
    "          BayesClassifier(freq=False,n_gram=2),\n",
    "          BayesClassifier(freq=False,n_gram=2,combinaison=True),\n",
    "          BayesClassifier(freq=True,n_gram=1),\n",
    "          BayesClassifier(freq=True,n_gram=2),\n",
    "          BayesClassifier(freq=True,n_gram=2,combinaison=True)]"
   ]
  },
  {
   "cell_type": "code",
   "execution_count": 31,
   "id": "a5fdf40d",
   "metadata": {},
   "outputs": [],
   "source": [
    "scores = np.array([cross_val_score(X,y,10,m) for m in models])"
   ]
  },
  {
   "cell_type": "code",
   "execution_count": 37,
   "id": "9d753334",
   "metadata": {},
   "outputs": [
    {
     "data": {
      "text/plain": [
       "('Présence, uni-gramme', 0.647020974049058)"
      ]
     },
     "execution_count": 37,
     "metadata": {},
     "output_type": "execute_result"
    }
   ],
   "source": [
    "labels[scores.argmax()], scores[scores.argmax()]"
   ]
  },
  {
   "cell_type": "code",
   "execution_count": 38,
   "id": "3c863b3b",
   "metadata": {},
   "outputs": [
    {
     "data": {
      "text/plain": [
       "0.7938535371489512"
      ]
     },
     "execution_count": 38,
     "metadata": {},
     "output_type": "execute_result"
    }
   ],
   "source": [
    "cross_val_score(X,y,10,KNN())"
   ]
  },
  {
   "cell_type": "code",
   "execution_count": 58,
   "id": "71919ac8",
   "metadata": {},
   "outputs": [],
   "source": [
    "client = authpy()\n",
    "new_tweets = pd.DataFrame(client.search_recent_tweets(query=\"famille addams\",tweet_fields=['context_annotations'], max_results=100)[0])['text']"
   ]
  },
  {
   "cell_type": "code",
   "execution_count": 67,
   "id": "16aa9901",
   "metadata": {},
   "outputs": [
    {
     "data": {
      "text/plain": [
       "array(['@FBeuvelet @laurentwauquiez @BrunoRetailleau @ECiotti @AurelienPradie La famille Addams.',\n",
       "       \"RT @NetflixFR: La Chose in Paris : un 𝘮𝘦𝘮𝘣𝘳𝘦 de la famille Addams était présent hier à l'avant-première d'Emily in Paris ! https://t.co/i3C…\",\n",
       "       '🧠 : let\\'s go 😁 *passe le générique de la famille Addams\"',\n",
       "       \"j'ai commencé Wednesday (j'ai jamais vu La Famille Addams par contre)\",\n",
       "       \"@KotamiKumagawa T'a déjà vu la famille Addams ?\\nY'a 2-3 réf mais la mentalité est pas respecté la\",\n",
       "       \"L'écriture c'est les montagnes russe, c'est super bien d'un côté (la partie meurtres enquêtes etc) mais la partie DANS Nevermore et du côté de la Famille Addams y'a un réel soucis. Mercredi est bien traitée mais on la colle dans un triangle amoureux alors que ça l'intéresse pas.\",\n",
       "       \"Bon alors déjà y'a un énorme problème de relation entre Morticia et Mercredi, c'est clairement pas du tout tiré de la Famille Addams, mais qui est le débile de scénariste qui a foutu un triangle amoureux avec Mercredi putain de bordel de merde ?!\",\n",
       "       '@3aychine_ghaya Bah cst la famille addams wsh mdrrr',\n",
       "       'wednesday c’est sympa mais ça a 0 rapport avec la famille addams ? ils sont tous out of character à part la chose 😂',\n",
       "       'Test de la Famille Addams : Ma correspondance la plus proche était Xavier. https://t.co/fz4Jfxbax6 via @idr_labs',\n",
       "       'RT @sandrine2loffre: La famille Addams https://t.co/MIWHC7us9v',\n",
       "       '@3aychine_ghaya PTDRRR mais tu connais pas la famille Addams de base ?',\n",
       "       \"@MomoSeyy Je viens dla finir aujd enft si t'aime un peu l'ambiance de la famille Addams c'est ca mais netflixisé\",\n",
       "       '@Gold3nHabits J’ai pas osé le dire.. la famille Addams en futuriste i guess',\n",
       "       'RT @teleobs: Si cette série bien fichue, disponible sur Netflix, manque d’un peu de tranchant et de profondeur pour toucher la perfection,…',\n",
       "       'RT @teleobs: #Mercredi:On prend plaisir à se délecter de dialogues bien troussés, à voir une ado repousser toute forme de compagnie humaine…',\n",
       "       \"RT @FarjonJerome: @alainhoupert @ECiotti @lesRepublicains Avec tout le respect que je vous dois, la famille Addams de LR a élu l'oncle Féti…\",\n",
       "       'Bien joué Tim Burton pour cette version modernisée de l’univers autour de la famille Addams. J’ai aimé mater Wednesday.',\n",
       "       \"Mercredi à l'école des sorciers ? 📺 Café Multiverse, épisode 2x52\\n\\nReyep et Gregdizer accueillent Anne-Claire pour parler de Mercredi, la série de Netflix, spin-off de la Famille Addams.\\n\\n#Mercredi #TimBurton #Netflix\\n\\n--\\nDispo en vidéo ou en podcast \\nhttps://t.co/moMrnSs6qI https://t.co/W274DRl2Dm\",\n",
       "       'Test de la Famille Addams : Ma correspondance la plus proche est Morticia. https://t.co/jkn0mlmPhu via @idr_labs',\n",
       "       \"RT @FarjonJerome: @alainhoupert @ECiotti @lesRepublicains Avec tout le respect que je vous dois, la famille Addams de LR a élu l'oncle Féti…\",\n",
       "       '#Mercredi:On prend plaisir à se délecter de dialogues bien troussés, à voir une ado repousser toute forme de compagnie humaine ou détraquer l’oppressant système de surveillance qui l’entoure, à retrouver la Chose ou Gomez, le père de l’héroïne...@NetflixFR https://t.co/cFB4n5M0HZ',\n",
       "       'RT @lobs: Avec « Mercredi », Tim Burton donne un coup de jeune à la famille Addams https://t.co/rHbGYOBhfE https://t.co/OGLfpVNMkX',\n",
       "       'Avec «\\xa0Mercredi\\xa0», Tim Burton donne un coup de jeune à la famille Addams - https://t.co/j7NvEWTuDR\\nSi cette série bien fichue, disponible sur Netflix, manque d’un peu de tranchant et de profondeur pour toucher la perfection,\\xa0on reste néanmoins preneur.Voir la source https://t.co/IZrfNlv9Ck',\n",
       "       \"et qui, maintenant, veulent devenir un membre de la famille Addams... Il faut savoir arrêter deux secondes, trop c'est trop au bout d'un moment... (3/3)\",\n",
       "       'Avec «\\xa0Mercredi\\xa0», Tim Burton donne un coup de jeune à la famille Addams https://t.co/l0Vi4Q0Wnd via @LObs',\n",
       "       \"@alainhoupert @ECiotti @lesRepublicains Avec tout le respect que je vous dois, la famille Addams de LR a élu l'oncle Fétide a sa tête. Ça sent le cimetière. https://t.co/wNcMrUbXcR\",\n",
       "       'Mercredi Famille Addams : La série est un mix étonnant à succès\\xa0! https://t.co/l2gCGvhdKZ',\n",
       "       'Mercredi : la série de Tim Burton a enfin sa bande-annonce https://t.co/40AbDj0nQ0 https://t.co/m8pCDuCiii',\n",
       "       'RT @unLuminR: gngn vous connaissiez pas mercredi avant Netflix\\neuh si ici ça enchaînait La Famille Addams, les simpsons et oggy et les cafa…',\n",
       "       \"RT @Sixtrea: @Mickalow Jenna Ortega et Gwendoline Christie sauvent la série. Si de base t'apprécie la Famille Addams, tu risques d'être déç…\",\n",
       "       'RT @Marlamade_: @Mickalow Plaît aux casu de la famille Addams, du coup j’ai détesté, l’adaptation à l’original est digne de l’adaptation Ne…',\n",
       "       'Avec « Mercredi », Tim Burton donne un coup de jeune à la famille Addams https://t.co/rHbGYOBhfE https://t.co/OGLfpVNMkX',\n",
       "       'RT @A_Nenavist: @ShoutLoufDz @ZedouP12 @Mickalow Bah elle est cool mais elle est décevante par rapport aux films de la famille Addams, y a…',\n",
       "       'Si cette série bien fichue, disponible sur Netflix, manque d’un peu de tranchant et de profondeur pour toucher la perfection, on reste néanmoins preneur. https://t.co/OiJXGANxLG',\n",
       "       \"@PrimeVideoFR L'intégral de la famille addams et de Fievel\",\n",
       "       'J\\'ai grave aimé la série \"Mercredi\" ça m\\'a grave rappeler des souvenirs des films de la famille Addams que je regardais quand j\\'étais gamin.',\n",
       "       'Zen Studios annonce la fenêtre de sortie de Console Pinball FX, ainsi que la famille Addams et d’autres tables à venir\\nhttps://t.co/BwRKEHXBxo\\n#PinballFx #TheAddamsFamily @ZenStudios_DAO',\n",
       "       \"Point bonus : oui, la famille Addams est politique.\\n\\nGenre ce drive-by magistral (Addams Family Values, 1993) qui parle clairement qu'à la différence des autres, la famille donne une éducation sexuelle réaliste à ses enfants.\\nAujourd'hui…… https://t.co/UpqARYU142 https://t.co/w8O0nbn3jv\",\n",
       "       'RT @NetflixFR: Avant de faire partie de la famille Addams, Jenna Ortega était surveillée par Joe Goldberg ! https://t.co/JA02qtkdJC',\n",
       "       '@RiiMina Je parlais de persos hors famille Addams sinon bien entendu pour La Chose 👍',\n",
       "       \"@_Jiminfernal Si je me rase le crâne j'aurais la gueule de l'oncle fétide de la famille addams c'est pas juste 😭\",\n",
       "       'En fait, et pour finir, il est intéressant de voir que les acteurs·rices (Jenna Ortega, Catherine Zeta-Jones, Luiz Guzmán) de la famille Addams dans la série ont des propos et des actions plus engagés et forts que ceux de leurs personnages, censés… https://t.co/pU0WKtckQK',\n",
       "       \"@_DollyWood_ Merci d'la rep! \\nJ'ai grave kiffé mais je pense que j'ai pas le même historique des oeuvres autour de la Famille Addams &lt;.&lt; \\nJ'ai trouve ça tellement bien mené. :&lt;\",\n",
       "       '@Quineapple @AdrienLarouzee Oui, ça se sent dès le début \\nOn a l\\'impression que seule Mercredi a hérité du \"mood\" de la Famille Addams \\n\\nJ\\'ai aussi un problème avec le petit frère, piteux, timide et représente en victime, on a l\\'impression qu\\'il a été adopté... Pugsley n\\'a jamais été fragile..!',\n",
       "       'et dire que ma nièce a regardé Mercredi sans connaître la famille Addams…bullshit',\n",
       "       \"Bien sympa de faire une série sur Mercredi mais y'avait un personnage de la famille Addams un peu plus intéressant\",\n",
       "       'RT @Telerama: Sur Netflix, la “Mercredi” de la famille Addams ressuscitée par Tim Burton https://t.co/QBnsms5N5L https://t.co/iNF8PR6yAz',\n",
       "       'RT @JVCom: En ce mercredi 23 novembre, Wednesday, la série de Tim Burton sur la famille Addams est dispo sur Netflix ! https://t.co/zMgnnkB…',\n",
       "       \"@Some_Writer_Cat Pitié, oui! 12 ans, dyslexique, a aimé Magic Charly (la suite bientôt 😍), Ce sera moi de Lyla Lee, l'ambiance  de la Famille Addams ou des Désastreuses aventures des orphelins Baudelaire et refuse à peu près toutes mes propositions (adore les mangas et les webtoons aussi)\",\n",
       "       'Heyo !\\nDites-moi, j\\'aimerais regarder \"Mercredi\" mais est-ce qu\\'il faut connaître la famille Addams avant ou c\\'est pas obligatoire ?',\n",
       "       'gngn vous connaissiez pas mercredi avant Netflix\\neuh si ici ça enchaînait La Famille Addams, les simpsons et oggy et les cafards tous les soirs sur canal+ family',\n",
       "       '@cafezelda La famille Addams',\n",
       "       '@AdrienLarouzee Je boycotte la série car en effet j’ai lu le synopsis que tu as l’air de confirmer, c’est affligeant de connerie. En remontant encore plus, le livre à la base est un humour extrêmement noir et cynique justement sur ce décalage, c’est ce qu’est la famille addams.',\n",
       "       \"@AdrienLarouzee J'en suis qu'au premier épisode et c'est l'impression que ca m'a donné... ce qui est cool dans la Famille Addams c'est leur décalage constant avec les autres, et là c'est Mercredi qui est en décalage par rapport à sa famille ? (y a même des dialogues moyen logiques à cause de ca)\",\n",
       "       'J’ai donc terminé la série Mercredi et j’ai quand même un gros problème avec le postulat et encore plus avec la «\\xa0morale\\xa0». J’ai vraiment du mal à imaginer qu’on puisse écrire ça en comprenant le thème et le ressort scénaristique de la famille Addams.',\n",
       "       '@NotSafeForWooo Famille Addams ? https://t.co/b4SYCMqmBW',\n",
       "       \"RT @NetflixFR: La Chose in Paris : un 𝘮𝘦𝘮𝘣𝘳𝘦 de la famille Addams était présent hier à l'avant-première d'Emily in Paris ! https://t.co/i3C…\",\n",
       "       'RT @Sissen_: Ce mercredi, c’est la sortie de #WednesdayNetflix. Je peux te rafraîchir la mémoire sur la Famille Addams au sens large, si be…',\n",
       "       'RT @Sissen_: [Revisionnage]\\nLA FAMILLE ADDAMS (1991)\\n\\nJe connais les deux par cœur et je préférerai toujours le second… Mais le rythme, le…',\n",
       "       'La famille addams c’est pas une série ?? j’trouve que des films mais je savais pas que c’était pas une série',\n",
       "       'RT @creapills: \"Pas d\\'objets tranchants ? Quelle honte\"\\n\\nLa série Netflix Mercredi (sur la Famille Addams) fait sa promo dans les aéroports…',\n",
       "       \"RT @NetflixFR: La Chose in Paris : un 𝘮𝘦𝘮𝘣𝘳𝘦 de la famille Addams était présent hier à l'avant-première d'Emily in Paris ! https://t.co/i3C…\",\n",
       "       '[Revisionnage]\\nLA FAMILLE ADDAMS (1991)\\n\\nJe connais les deux par cœur et je préférerai toujours le second… Mais le rythme, le jeu, la lumière sont tellement quali. Les VFX de La Chose ont à peine vieilli. Et le message est toujours si doux. Parmi mes films de Noël sûrs. https://t.co/Do6qXLbeMR',\n",
       "       \"@SalemaMelinda Elle ne s'entend plus avec ses parents, surtout sa mère. Une pers. de tiktok avait bien expliqué le problème que ça posait, car la famille Addams est une famille très unie à la base, même si macabre\",\n",
       "       'RT @creapills: \"Pas d\\'objets tranchants ? Quelle honte\"\\n\\nLa série Netflix Mercredi (sur la Famille Addams) fait sa promo dans les aéroports…',\n",
       "       '@f_jacky328 @NetflixFR Ça, c’est que tu ne connais pas la première famille Addams.',\n",
       "       'Je viens de capter que Mercredi en fait c’est la petite dans ma famille Addams',\n",
       "       \"@Some_Writer_Cat Alors le souci avec la famille Addams, c'est que c'est une famille de dominants méga richissime, qui vivent dans une bulle CSP cosmique, en vase clos, en ne fréquentant que des gens méga riches comme eux.\\nEt l'académie avec ses dorures et son marbre rend bien ça.\",\n",
       "       'Jpppppp genre la famille ADDAMS au tribunal 😭🤣',\n",
       "       \"Et puis Fétid est devenu un ninja qui lance des éclairs et qui fait des petits casses pour de l'argent, parce que hey, la famille addams est pauvre. https://t.co/qcGW6iPFvZ\",\n",
       "       'En vidéo, Lady Gaga recrée la danse devenue virale de Mercredi, de la famille Addams \\nhttps://t.co/E8bRTeML7Z https://t.co/4cqRrpkCJz',\n",
       "       \"@legrand_djipi Ah, enfin une facile! C'est Gomez Addams, de la famille Addams! 🤪 https://t.co/mIcgqq7cKs\",\n",
       "       '@er0wine Ouais mais y’a pas la nechama de la famille Addams quoi. C’est beaucoup trop lisse, c’est subversif qu’en apparence',\n",
       "       \"RT @LoiC_BrD17: Le détail qui tue,  c'est la même actrice qui jouait Mercredi dans la famille Addams en 1991\\n#Mercredi https://t.co/zAHadQe…\",\n",
       "       'Mdrr Oh nan la famille Addams récidive https://t.co/MoiXszbTGr',\n",
       "       '@Rayski_i La honte de dire ça! C’est la famille Addams',\n",
       "       '@Sanvero15 Plutôt d’accord sur tout ce que tu as dit. Une série Famille Addams aurait été meilleure.\\nTim Burton par contre a réalisé les 4 premiers épisodes (il me semble) et est producteur exécutif !',\n",
       "       '@gentIerosie Tu as vu la famille Addams ?',\n",
       "       \"@DoctorRed7 suffisamment calé sur l'étrange dans la fiction pour savoir qu'un cosplay sasuke ça permet pas de devenir un maître dans le domaine. Aussi, le charme de la famille Addams, c'est la famille en elle même, et son décalage avec les gens normaux. La foutre à Poudlard n'a aucun intérêt\",\n",
       "       \"@DoctorRed7 J'ai pas vu la série, mais ton avis confirme mes impressions. La famille Addams, c'est un univers que j'adore, mais fait par Netflix, ça finit juste par ressembler à une famille dont la fille est une ado qui se la joue gothique parce qu'elle est en quête de reconnaissance.\",\n",
       "       \"RT @Cynemoon: Coincidence amusante !\\nPar contre les gens qui crient au plagiat... C'est juste 2 auteurs SFFF anglais avec un héros mec lamb…\",\n",
       "       \"RT @Cynemoon: Coincidence amusante !\\nPar contre les gens qui crient au plagiat... C'est juste 2 auteurs SFFF anglais avec un héros mec lamb…\",\n",
       "       \"Je ne suis pas franchement la cible. Pis, je ne connais strictement de la famille Addams, aussi bien la série des 60's que les films. Cette scène m'a bien amusé et surtout je n'ai eu aucun mal à plonger dans l'univers malgré mon lourd passif. Comme quoi, c'est plutôt bien fichu… https://t.co/toyQf77E1U\",\n",
       "       '@Zizoulhein Exactement ! Le décalage de la famille Addams est cool, la scène du début était géniale puisqu’elle était dans un lycée normal, après c’est vrai que même si elle est différente des autres marginaux on perd ce qui aurait pu en faire une série différente et plus originale',\n",
       "       'RT @HorrorNews_fr: 🕷️ Miles Millar, le showrunner de Mercredi, attend impatiemment le feu vert de Netflix pour une saison 2, car il a plein…',\n",
       "       '\"Nordique de la famille\" oui on a compris j\\'ai ni les yeux ni les cheveux bruns j\\'ai le teint de morticia addams et j\\'habite Paris laissez-moi tranquille',\n",
       "       \"@fanedeproder @NetflixFR Bah justement--\\nC'est la famille Addams c'est juste une série basée sur la fille de la famille (Mercredi du coup)\",\n",
       "       \"RT @vanyanhorror: La vénération que vous avez pour Mercredi me fait bien rire.\\nEn 6e, je me faisais bully par un gars qui m'appelait Mercre…\",\n",
       "       '@Youridefou c la voiture de la famille addams ou quoi',\n",
       "       \"RT @NetflixFR: La Chose in Paris : un 𝘮𝘦𝘮𝘣𝘳𝘦 de la famille Addams était présent hier à l'avant-première d'Emily in Paris ! https://t.co/i3C…\",\n",
       "       'RT @nessxtsitp: @XM1LL10NN41R3 jaime bien mais c pas pareil que la famille addams 🥲',\n",
       "       \"@antoine_peaks Raison de pas l'aimer: encore un truc pr ado un peu bof mais surtout que c'est très éloigné de la famille addams genre le seul truc c'est qu'ils sont #bresom\",\n",
       "       '@XM1LL10NN41R3 jaime bien mais c pas pareil que la famille addams 🥲',\n",
       "       \"J'ai fini de mater Mercredi. C'était très sympa. C'est un autre esprit que la famille Addams originale, mais c'est pas grave. C'est même plutôt bienvenu. Et l'actrice est vraiment balèze. Et j'écoute les Cramps en boucle depuis 2 jours.\",\n",
       "       \"Plus ça avance et moins ça ressemble à la famille Addams ! pk une enquête d'ailleurs? Bon admettons mais ne faites pas une série de monstres si vous n'êtes pas foutu d'investir un COPEC dans cette série surtout venant de Netflix ! Le style cinématique PS2 en 2022 non! https://t.co/muRMv03dfF\",\n",
       "       \"Coincidence amusante !\\nPar contre les gens qui crient au plagiat... C'est juste 2 auteurs SFFF anglais avec un héros mec lambda habillé façon école anglaise.\\n(Et Gaiman aurait déjà gueulé, c'est comme Horowitz/l'île du Crâne, qui tient + de la famille Addams que d'HP limite. 😂) https://t.co/HcpF2BIV9J\",\n",
       "       '@ebzzn Mais je connais absolument pas la famille addams donc COMMENT pouvais je savoir',\n",
       "       '@sh3ita Mdr mais keske j’en savais je connais absolument pas la famille addams'],\n",
       "      dtype=object)"
      ]
     },
     "execution_count": 67,
     "metadata": {},
     "output_type": "execute_result"
    }
   ],
   "source": [
    "X_test = new_tweets.values\n",
    "X_test"
   ]
  },
  {
   "cell_type": "code",
   "execution_count": 64,
   "id": "029059ef",
   "metadata": {},
   "outputs": [],
   "source": [
    "clf = KNN().fit(X,y)"
   ]
  },
  {
   "cell_type": "code",
   "execution_count": 69,
   "id": "17e25cd0",
   "metadata": {},
   "outputs": [],
   "source": [
    "y_pred = clf.predict(X_test)"
   ]
  },
  {
   "cell_type": "code",
   "execution_count": 70,
   "id": "b2f9c8ae",
   "metadata": {},
   "outputs": [
    {
     "data": {
      "text/plain": [
       "array([2, 2, 2, 2, 2, 4, 2, 2, 2, 2, 2, 2, 2, 2, 2, 2, 2, 2, 2, 4, 2, 4,\n",
       "       2, 4, 2, 2, 2, 2, 2, 2, 2, 2, 2, 2, 2, 2, 2, 2, 2, 2, 2, 2, 2, 2,\n",
       "       4, 2, 2, 2, 2, 4, 2, 2, 2, 4, 2, 2, 2, 2, 2, 2, 2, 2, 2, 2, 4, 2,\n",
       "       2, 2, 2, 2, 2, 2, 2, 2, 4, 2, 2, 2, 2, 2, 2, 2, 2, 2, 2, 2, 2, 2,\n",
       "       2, 2, 2, 2, 2, 2, 2, 2, 2, 2, 2], dtype=int64)"
      ]
     },
     "execution_count": 70,
     "metadata": {},
     "output_type": "execute_result"
    }
   ],
   "source": [
    "y_pred"
   ]
  },
  {
   "cell_type": "code",
   "execution_count": 79,
   "id": "fd249cb9",
   "metadata": {},
   "outputs": [
    {
     "data": {
      "text/plain": [
       "(array([2, 4], dtype=int64), array([90,  9], dtype=int64))"
      ]
     },
     "execution_count": 79,
     "metadata": {},
     "output_type": "execute_result"
    }
   ],
   "source": [
    "np.unique(y_pred,return_counts=True)"
   ]
  },
  {
   "cell_type": "code",
   "execution_count": 73,
   "id": "fdc99d58",
   "metadata": {},
   "outputs": [
    {
     "data": {
      "text/plain": [
       "<BayesClassifier.BayesClassifier at 0x25cb6fc6550>"
      ]
     },
     "execution_count": 73,
     "metadata": {},
     "output_type": "execute_result"
    }
   ],
   "source": [
    "blf = BayesClassifier(freq=False,n_gram=1)\n",
    "blf.fit(X,y)"
   ]
  },
  {
   "cell_type": "code",
   "execution_count": 76,
   "id": "4ff6b622",
   "metadata": {},
   "outputs": [
    {
     "data": {
      "text/plain": [
       "array([2, 2, 2, 2, 2, 4, 2, 2, 4, 4, 2, 2, 2, 2, 4, 2, 2, 2, 4, 2, 2, 2,\n",
       "       2, 2, 2, 2, 2, 4, 2, 2, 4, 2, 2, 4, 4, 2, 4, 2, 2, 4, 2, 4, 4, 4,\n",
       "       4, 4, 2, 4, 4, 4, 2, 2, 2, 2, 4, 2, 2, 2, 2, 4, 2, 4, 2, 2, 2, 4,\n",
       "       2, 2, 2, 2, 2, 0, 4, 2, 2, 2, 2, 4, 2, 4, 4, 4, 4, 4, 2, 2, 2, 4,\n",
       "       2, 2, 2, 2, 2, 2, 2, 2, 4, 4, 2], dtype=int64)"
      ]
     },
     "execution_count": 76,
     "metadata": {},
     "output_type": "execute_result"
    }
   ],
   "source": [
    "y_pred_blf = blf.predict(X_test)\n",
    "y_pred_blf"
   ]
  },
  {
   "cell_type": "code",
   "execution_count": 78,
   "id": "4c123c9c",
   "metadata": {},
   "outputs": [
    {
     "data": {
      "text/plain": [
       "(array([0, 2, 4], dtype=int64), array([ 1, 65, 33], dtype=int64))"
      ]
     },
     "execution_count": 78,
     "metadata": {},
     "output_type": "execute_result"
    }
   ],
   "source": [
    "np.unique(blf.predict(X_test),return_counts=True)"
   ]
  }
 ],
 "metadata": {
  "kernelspec": {
   "display_name": "Python 3 (ipykernel)",
   "language": "python",
   "name": "python3"
  },
  "language_info": {
   "codemirror_mode": {
    "name": "ipython",
    "version": 3
   },
   "file_extension": ".py",
   "mimetype": "text/x-python",
   "name": "python",
   "nbconvert_exporter": "python",
   "pygments_lexer": "ipython3",
   "version": "3.9.12 (main, Apr  4 2022, 05:22:27) [MSC v.1916 64 bit (AMD64)]"
  },
  "vscode": {
   "interpreter": {
    "hash": "73d8bc8ee386586a47626bdd1c0ea93c1e792467b12818b00f5764cb5337cde7"
   }
  }
 },
 "nbformat": 4,
 "nbformat_minor": 5
}
